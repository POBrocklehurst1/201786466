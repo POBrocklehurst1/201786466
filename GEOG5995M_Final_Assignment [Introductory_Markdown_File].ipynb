{
 "cells": [
  {
   "cell_type": "markdown",
   "id": "29351590-92fa-4ce1-aecd-84ec5f3728d1",
   "metadata": {},
   "source": [
    "# GEOG5995M Final Assignment [Introductory Markdown File]\n",
    "\n",
    "Student ID number: 201786466"
   ]
  },
  {
   "cell_type": "markdown",
   "id": "d46a7f14-36b9-45cb-a52a-dd78cc829d54",
   "metadata": {},
   "source": [
    "# Background/context for the Project"
   ]
  },
  {
   "cell_type": "markdown",
   "id": "0a7bd80c-5841-41f7-b494-d3878bc33326",
   "metadata": {},
   "source": [
    "The UK Home Office is the UK Government department responsible for policing, fire, borders and migration among other key policy issues that confront the UK. As part of its responsibility for controlling migration to the UK, the UK government has announced a new policy which will seek to set a cap on the number of 'safe and legal' route places offered to those abroad in need of refuge or other protection in the UK[1]. This cap will be set following consultation with UK local authorities and NGOs representing the interests of refguees and local government. To inform decision making regarding the setting of a safe and legal routes cap that both accurately and fairly reflects current and prospective local authority capacity and takes into account the historic level of safe and legal route places provided by each local authority, clear, high quality and accessible data analysis will be required. For this project, I aim to produce some useful visulisations to enable evidence-based decision making regarding the setting of a cap on safe and legal routes, and to enable local authorities to be able to generate an evidence-informed number to submit to the Home Office as part of their response to the consultation. \n",
    "\n",
    "The beneficeries of this research will be Home Office Policy staff, all stakeholders involved in the setting of this cap and also the UK public. The setting of a safe and legal routes cap can be argued to be in the public interest as it ensures their council has control over an element of migration to their area and help to ensure that local services have sufficent capacity to provide for all in the area. My analysis will also support the public interest by providing an accessible, transparent and objective picture regarding the number of refugees resettled into each area of the UK since 2014, allowing the public to hold Government to account for the decisions they have taken to date.\n",
    "\n",
    "The UK Home Office's Immigration System Statistics team produces a quarterly statistics release which includes data tables on the number of safe and legal route places allocated to each local authority each year since 2014[2]. This will be my primary data source for this project. 2014 constitutes the first substantial offering of a safe and legal routes for refugees to come to the UK in modern times, following the Syrian Civil War. In 2014, the UK launched the Vulnerable Persons Resettlement Scheme (VPRS) which later announced an intention to resettle 20,000 Syrian nationals who had been displaced from Syria and whom had been assesed by UNHCR in a neighbouring country to meet the UNHCR 1951 definition of a refugee and who met one or more criteria set by the UK government which meant they were considered especially vulnerable in their current situation and with little prospect of integrating into their current country of occupation[3][4]. Later refugee resettlement schemes announced by the UK Home Office include the Vulnerable Children Resettlement Scheme (VCRS), the United Kingdom Resettlement Scheme (UKRS) and most recently the Afghan Citizen Resettlement Scheme (ACRS) and the Afghan Relocation and Assistance Policy (ARAP) following the fall of Kabul. Each scheme was announced with its own justification and eligibility criteria but each provides a safe and legal route for vulnerable people abroad to resettle and integrate in the UK.\n",
    "\n",
    "To understand whether refugees resettled via UK resettlement schemes have been \"fairly\" dispersed across each local authority area in the UK - an intention originally set out in each scheme policy statement - I will need to not only consider the geographical distribution of resettlement places, but also how the number of resettlement places offered by each local authority compares to an estimate of the local area population. To do this, I will use the Office for National Statistics' (ONS) population estimate by local authority for 2021 dataset[5]. This is the most recent estimate available. While this analysis will be vulnerable to large changes in population from 2014 to 2023, I deem this point estimate to be a good enough indicator of local area population across the approximate decade (2014-23). I will join the retrieved figures for both total resettled and resettled as a proportion of local area population to a dataset retrieved from the ONS Open Geography Potal containing Esvi shape file data allowing me to visualise the UK segmented into local authority districts as of 2023[6].\n",
    "\n",
    "First though, to assist with evidence-informed decision making regarding the setting of a safe and legal route cap, I will create a visualisation of some key summary statistics (median, 25th and 75th quartile max and min) for an estimate of the total stock of vacant dwellings in each UK local authority area as of 2023. The median of the distribution of vacant dwellings across UK local authorities in 2023 can give a reasonable benchmark figure as to the housing stock available in the typical local authority area while not being skewed by outliers like the mean would be. Local authorities can then consider the percentage of this average stock which they each would be able to offer for safe and legal routes while accommodating other demands on vacant dwelling stock to come up with a figure constituting an overall cap on safe and legal routes with the assumption that larger LAs will resettle more refugees than smaller ones. The dataset I will use for this has been retrieved from the .gov.uk website (table 615)[7]."
   ]
  },
  {
   "cell_type": "markdown",
   "id": "8633a987-a91c-471d-8850-f5b3e5128642",
   "metadata": {},
   "source": [
    "## What data the GitHub repository contains"
   ]
  },
  {
   "cell_type": "markdown",
   "id": "87b9f143-2121-43cf-9433-60e533bcd225",
   "metadata": {},
   "source": [
    "Contained within the Final Assignment zip folder you have downloaded is a txt file which contains a link to my public GitHub Repository for this project. Following this link will take you to a GitHub version of this assignment's files. Although you should have already downloaded all the files you will need from the Final Assingment zip folder and saved them to your desktop, I am demonstrating that I can use GitHub to host a repository for my project. Unfortunately, due to GitHub's file size upload limit, my UK shp file downloaded from ONS Open Geography Portal was too big to ulpoad to this repository. However, I have included a copy of this file in the Final Assignment zip file."
   ]
  },
  {
   "cell_type": "markdown",
   "id": "890525e1-280c-449c-8552-dc2d7bcefd9c",
   "metadata": {},
   "source": [
    "## End of markdown file instruction"
   ]
  },
  {
   "cell_type": "markdown",
   "id": "8369c1b6-fdf2-4adb-9519-4b3b0ba3a263",
   "metadata": {},
   "source": [
    "Please now open the jupyter notebook for this project."
   ]
  },
  {
   "cell_type": "markdown",
   "id": "7875c20f-1b3b-4d95-9b3b-ea0910a6a911",
   "metadata": {},
   "source": [
    "## References\n",
    "\n",
    "<p><a href=\"https://www.gov.uk/government/news/government-consults-on-safe-and-legal-routes-for-refugees\">[1]</a> Government Consults on Safe and Legal Routes for Refugees 2023</p>\n",
    "\n",
    "<p><a href=\"https://assets.publishing.service.gov.uk/media/655bae44d03a8d001207fd17/resettlement-local-authority-datasets-sep-2023.xlsx\">[2]</a> UK Home Office Immigration System Statistics Data Table - Resettlement by Local Authority 2023</p>\n",
    "\n",
    "<p><a href=\"https://www.gov.uk/government/publications/illegal-migration-bill-factsheets/safe-and-legal-routes\">[3]</a> Safe and Legal Routes Policy Paper 2023</p>\n",
    "\n",
    "<p><a href=\"https://www.unhcr.org/about-unhcr/who-we-are/1951-refugee-convention\">[4]</a> United Nations High Commissioner for Refugees 1951 UN Convention on Refugees</p>\n",
    "\n",
    "<p><a href=\"https://www.ons.gov.uk/file?uri=/peoplepopulationandcommunity/populationandmigration/populationestimates/datasets/populationestimatesforukenglandandwalesscotlandandnorthernireland/mid2021/ukpopestimatesmid2021on2021geographyfinal.xls\">[5]</a> ONS Population Estimates by Local Authority 2021</p>\n",
    "\n",
    "<p><a href=\"https://geoportal.statistics.gov.uk/datasets/ons::local-authority-districts-may-2023-boundaries-uk-bfc/explore?location=52.555783%2C-0.939244%2C6.65\">[6]</a> ONS Open Geography Portal Local Authority District Boundaries 2023</p>\n",
    "\n",
    "<p><a href=\"https://assets.publishing.service.gov.uk/media/65671c8d312f40000de5d57f/LT_615.ods\">[7]</a> Vacant UK Dwelling Stock by Local Authority 2023</p>"
   ]
  }
 ],
 "metadata": {
  "kernelspec": {
   "display_name": "Python 3 (ipykernel)",
   "language": "python",
   "name": "python3"
  },
  "language_info": {
   "codemirror_mode": {
    "name": "ipython",
    "version": 3
   },
   "file_extension": ".py",
   "mimetype": "text/x-python",
   "name": "python",
   "nbconvert_exporter": "python",
   "pygments_lexer": "ipython3",
   "version": "3.12.0"
  }
 },
 "nbformat": 4,
 "nbformat_minor": 5
}
